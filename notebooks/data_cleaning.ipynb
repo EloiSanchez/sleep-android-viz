{
 "cells": [
  {
   "attachments": {},
   "cell_type": "markdown",
   "metadata": {},
   "source": [
    "# Clean sleep data"
   ]
  },
  {
   "cell_type": "code",
   "execution_count": 1,
   "metadata": {},
   "outputs": [],
   "source": [
    "import pandas as pd\n",
    "from zipfile import ZipFile\n",
    "\n",
    "save_to_db = True"
   ]
  },
  {
   "cell_type": "code",
   "execution_count": 2,
   "metadata": {},
   "outputs": [],
   "source": [
    "with ZipFile('../data/sleep-export.zip') as my_zip:\n",
    "    with my_zip.open('sleep-export.csv', 'r') as f:\n",
    "        lines = list(map(lambda x: x.decode('utf-8'), f.readlines()))"
   ]
  },
  {
   "attachments": {},
   "cell_type": "markdown",
   "metadata": {},
   "source": [
    "The file format is a modification of a csv file created by [Sleep as Android](https://docs.sleep.urbandroid.org/devs/csv.html). It needs to be parsed. There are three types of data to extract.\n",
    "\n",
    "- Generic information for each sleep\n",
    "- All [events](https://docs.sleep.urbandroid.org/devs/sleepcloud_api.html#event-labels) during a sleeping period\n",
    "- Accelerometer information during a sleeping period\n",
    "\n",
    "Initially we create two dataframes, one including the generic information and the other one the event and accelerometer information. Then, we split the latter into the event and accelerometer dataframes."
   ]
  },
  {
   "cell_type": "code",
   "execution_count": 3,
   "metadata": {},
   "outputs": [],
   "source": [
    "def get_sleeps(data: list[str]) -> list[list[str]]:\n",
    "    while len(data) > 0:\n",
    "        i = 2 if data[2].startswith('Id') else 3\n",
    "\n",
    "        sleep, data = data[:i], data[i:]\n",
    "        yield [list(map(lambda y: y.replace('\"', '')\n",
    "                        .replace('\\n', ''), x.split(','))) for x in sleep]"
   ]
  },
  {
   "cell_type": "code",
   "execution_count": 4,
   "metadata": {},
   "outputs": [],
   "source": [
    "sleep_data = []\n",
    "event_data = []\n",
    "for sleep in get_sleeps(lines):\n",
    "    sleep_data.append(sleep[1][:15])\n",
    "\n",
    "    for time, mov_value in zip(sleep[0][15:], sleep[1][15:]):\n",
    "        event_data.append([sleep[1][0], time, mov_value])\n",
    "\n",
    "\n",
    "headers = sleep[0][:15]\n",
    "\n",
    "sleep_df = pd.DataFrame(sleep_data, columns=headers)\n",
    "event_df = pd.DataFrame(event_data, columns=['Id', 'Time', 'Value'])\n",
    "movement_df = event_df[event_df['Time'] != 'Event']\n",
    "event_df = event_df[event_df['Time'] == 'Event'][['Id', 'Value']].rename(\n",
    "    columns = {'Value': 'Event'}\n",
    ")"
   ]
  },
  {
   "attachments": {},
   "cell_type": "markdown",
   "metadata": {},
   "source": [
    "Clean sleep data"
   ]
  },
  {
   "cell_type": "code",
   "execution_count": 5,
   "metadata": {},
   "outputs": [],
   "source": [
    "for col in ('From', 'To', 'Sched'):\n",
    "    sleep_df[col] = pd.to_datetime(sleep_df[col], format='%d. %m. %Y %H:%M')\n",
    "\n",
    "for col in ('Id', 'Hours', 'Rating', 'DeepSleep', 'Framerate', 'Snore', 'Noise',\n",
    "            'Cycles', 'LenAdjust'):\n",
    "    sleep_df[col] = pd.to_numeric(sleep_df[col])\n",
    "\n",
    "sleep_df = sleep_df.rename(\n",
    "    columns={old: old.lower() for old in sleep_df.columns}\n",
    ")\n",
    "sleep_df = sleep_df.rename(columns={'from': 'sleep_from', 'to': 'sleep_to'})"
   ]
  },
  {
   "attachments": {},
   "cell_type": "markdown",
   "metadata": {},
   "source": [
    "Clean accelerometer data"
   ]
  },
  {
   "cell_type": "code",
   "execution_count": 6,
   "metadata": {},
   "outputs": [],
   "source": [
    "for col in ('Id', 'Value'):\n",
    "    movement_df[col] = pd.to_numeric(movement_df[col])\n",
    "\n",
    "movement_df['Time'] = pd.to_datetime(movement_df['Time'], format='%H:%M').dt.time\n",
    "\n",
    "movement_df = movement_df.rename(\n",
    "    columns={old: old.lower() for old in movement_df.columns}\n",
    "    )\n",
    "\n",
    "event_df['Id'] = pd.to_numeric(event_df['Id'])\n",
    "\n",
    "event_df = event_df.rename(\n",
    "    columns={old: old.lower() for old in event_df.columns}\n",
    "    )"
   ]
  },
  {
   "attachments": {},
   "cell_type": "markdown",
   "metadata": {},
   "source": [
    "Save clean data"
   ]
  },
  {
   "cell_type": "code",
   "execution_count": 7,
   "metadata": {},
   "outputs": [],
   "source": [
    "sleep_df.to_csv('../data/clean/sleeps.csv', index=False)\n",
    "movement_df.to_csv('../data/clean/movements.csv', index=False)\n",
    "event_df.to_csv('../data/clean/events.csv', index=False)"
   ]
  },
  {
   "attachments": {},
   "cell_type": "markdown",
   "metadata": {},
   "source": [
    "There is more cleaning to be done. \n",
    "\n",
    "For instance, I only used the comment feature of the app once when I downloaded and it has an irrelevant comment in Catalan, but the app automatically adds different tags that can be extracted into a new table of its own.\n",
    "\n",
    "The events dataframe includes all events that happen in a night with a timestamp. Again, this can be parsed and utilized."
   ]
  },
  {
   "attachments": {},
   "cell_type": "markdown",
   "metadata": {},
   "source": [
    "## Put raw data in SQLite3 database\n",
    "\n",
    "Since the idea is to use dbt for the data transformation until we get analysis ready tables, the data will also be added to a locally managed SQLite3 database."
   ]
  },
  {
   "cell_type": "code",
   "execution_count": 8,
   "metadata": {},
   "outputs": [],
   "source": [
    "import sqlite3\n",
    "\n",
    "con = sqlite3.connect('../database/raw.db')"
   ]
  },
  {
   "cell_type": "code",
   "execution_count": 9,
   "metadata": {},
   "outputs": [
    {
     "data": {
      "text/plain": [
       "<sqlite3.Cursor at 0x7f1f80494bc0>"
      ]
     },
     "execution_count": 9,
     "metadata": {},
     "output_type": "execute_result"
    }
   ],
   "source": [
    "con.execute('DROP TABLE IF EXISTS sleeps;')\n",
    "con.execute('DROP TABLE IF EXISTS movements;')\n",
    "con.execute('DROP TABLE IF EXISTS events;')"
   ]
  },
  {
   "cell_type": "code",
   "execution_count": 10,
   "metadata": {},
   "outputs": [
    {
     "data": {
      "text/plain": [
       "228669"
      ]
     },
     "execution_count": 10,
     "metadata": {},
     "output_type": "execute_result"
    }
   ],
   "source": [
    "sleep_df.to_sql('sleeps', con, index=False)\n",
    "movement_df.to_sql('movements', con, index=False)\n",
    "event_df.to_sql('events', con, index=False)"
   ]
  }
 ],
 "metadata": {
  "kernelspec": {
   "display_name": "dbt-sqlite",
   "language": "python",
   "name": "python3"
  },
  "language_info": {
   "codemirror_mode": {
    "name": "ipython",
    "version": 3
   },
   "file_extension": ".py",
   "mimetype": "text/x-python",
   "name": "python",
   "nbconvert_exporter": "python",
   "pygments_lexer": "ipython3",
   "version": "3.11.3"
  },
  "orig_nbformat": 4
 },
 "nbformat": 4,
 "nbformat_minor": 2
}
